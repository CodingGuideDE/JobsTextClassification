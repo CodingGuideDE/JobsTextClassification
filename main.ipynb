{
 "cells": [
  {
   "cell_type": "code",
   "execution_count": 7,
   "id": "08db4880",
   "metadata": {},
   "outputs": [],
   "source": [
    "from sklearn.model_selection import train_test_split\n",
    "import pandas as pd\n",
    "\n",
    "\n",
    "data = pd.read_csv(\"/Users/florianhaglsperger/Desktop/Coding/application_tracking/job_applicant_dataset.csv\")\n",
    "train_data, test_data = train_test_split(data, test_size=0.2, random_state=42)\n",
    "\n",
    "with open(\"train_data.csv\", \"w\") as train_file:\n",
    "    train_data.to_csv(train_file, index=False)\n",
    "with open(\"test_data.csv\", \"w\") as test_file:\n",
    "    test_data.to_csv(test_file, index=False)"
   ]
  },
  {
   "cell_type": "code",
   "execution_count": 19,
   "id": "f33490ae",
   "metadata": {},
   "outputs": [],
   "source": [
    "import torch.nn as nn\n",
    "import torch.nn.functional as F\n",
    "import torch\n",
    "import numpy as np\n",
    "from transformers import GPT2Tokenizer\n",
    "from torch.nn.utils.rnn import pad_sequence\n",
    "from torch.utils.data import Dataset, DataLoader\n",
    "\n",
    "class JobsDataset():\n",
    "    def __init__(self, tokenizer, path):\n",
    "        self.tokenizer = tokenizer\n",
    "\n",
    "        self.data = pd.read_csv(path)\n",
    "        self.job_description = self.data['Job Description'].tolist()\n",
    "        self.resume = self.data['Resume'].tolist()\n",
    "        self.age = self.data['Age'].tolist()\n",
    "        self.best_match = self.data['Best Match'].tolist()\n",
    "\n",
    "    def __len__(self):\n",
    "        return len(self.job_description)\n",
    "\n",
    "    def __getitem__(self, idx):\n",
    "        description = self.job_description[idx]\n",
    "        resume = self.resume[idx]\n",
    "        age = self.age[idx]\n",
    "        best_match = self.best_match[idx]\n",
    "\n",
    "        description_encoding = self.tokenizer.encode(description)\n",
    "        resume_encoding = self.tokenizer.encode(resume)\n",
    "\n",
    "        return [\n",
    "            [description_encoding, resume_encoding, age],\n",
    "            [best_match]\n",
    "        ]\n",
    "    \n",
    "def coallate_fn(batch):\n",
    "    inputs, targets = zip(*batch)\n",
    "    description_encoding, resume_encoding, age = zip(*inputs)\n",
    "    best_match = [target[0] for target in targets]\n",
    "\n",
    "    description_encoding = [torch.tensor(t) for t in description_encoding]\n",
    "    resume_encoding = [torch.tensor(t) for t in resume_encoding]\n",
    "    age = torch.tensor(age, dtype=torch.float32)\n",
    "    best_match = torch.tensor(best_match, dtype=torch.float32)\n",
    "\n",
    "    description_encoding = pad_sequence(description_encoding, batch_first=True, padding_value=0)\n",
    "    resume_encoding = pad_sequence(resume_encoding, batch_first=True, padding_value=0)\n",
    "    return [description_encoding, resume_encoding, age], best_match\n",
    "\n",
    "dataset = JobsDataset(GPT2Tokenizer.from_pretrained('gpt2'), \"train_data.csv\")\n",
    "train_loader = DataLoader(dataset, batch_size=32, shuffle=True, collate_fn=coallate_fn)"
   ]
  },
  {
   "cell_type": "code",
   "execution_count": null,
   "id": "bca45221",
   "metadata": {},
   "outputs": [
    {
     "ename": "_IncompleteInputError",
     "evalue": "incomplete input (3865153847.py, line 9)",
     "output_type": "error",
     "traceback": [
      "  \u001b[36mCell\u001b[39m\u001b[36m \u001b[39m\u001b[32mIn[20]\u001b[39m\u001b[32m, line 9\u001b[39m\n\u001b[31m    \u001b[39m\n    ^\n\u001b[31m_IncompleteInputError\u001b[39m\u001b[31m:\u001b[39m incomplete input\n"
     ]
    }
   ],
   "source": [
    "class JobMatching(nn.Module):\n",
    "    def __init__(self, vocab_size, embed_size, hidden_size = 256, output_size = 2):\n",
    "        super(JobMatching, self).__init__()\n",
    "        \n",
    "        self.embedding = nn.Embedding(vocab_size, embed_size)\n",
    "        self.lstm = nn.LSTM(embed_size, hidden_size, batch_first=True)\n",
    "        self.fc1 = nn.Linear(hidden_size, hidden_size //2)\n",
    "        self.fc2 = nn.Linear(hidden_size //2, hidden_size //4)\n",
    "        self.fc3 = nn.Linear(hidden_size //4, output_size)\n",
    "\n",
    "    def forward(self, description, resume, age):\n",
    "        "
   ]
  }
 ],
 "metadata": {
  "kernelspec": {
   "display_name": ".venv (3.13.7)",
   "language": "python",
   "name": "python3"
  },
  "language_info": {
   "codemirror_mode": {
    "name": "ipython",
    "version": 3
   },
   "file_extension": ".py",
   "mimetype": "text/x-python",
   "name": "python",
   "nbconvert_exporter": "python",
   "pygments_lexer": "ipython3",
   "version": "3.13.7"
  }
 },
 "nbformat": 4,
 "nbformat_minor": 5
}
